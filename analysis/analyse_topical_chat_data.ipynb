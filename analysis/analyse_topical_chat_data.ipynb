{
 "cells": [
  {
   "cell_type": "code",
   "execution_count": 1,
   "id": "69ecaf87-3c2d-44e6-8ccd-068569db4fda",
   "metadata": {},
   "outputs": [
    {
     "name": "stdout",
     "output_type": "stream",
     "text": [
      "['/home/user/kew/projects/understanding-ctx-aug/analysis/..', '/home/user/kew/projects/understanding-ctx-aug/analysis', '/home/user/kew/anaconda3/envs/ctx_aug_24/lib/python38.zip', '/home/user/kew/anaconda3/envs/ctx_aug_24/lib/python3.8', '/home/user/kew/anaconda3/envs/ctx_aug_24/lib/python3.8/lib-dynload', '', '/home/user/kew/anaconda3/envs/ctx_aug_24/lib/python3.8/site-packages', '/home/user/kew/projects/understanding-ctx-aug/src/transformers/src']\n"
     ]
    }
   ],
   "source": [
    "import sys\n",
    "from pathlib import Path\n",
    "base_dir = str(Path(sys.path[0]) / \"..\")\n",
    "sys.path.insert(0, base_dir)\n",
    "print(sys.path)"
   ]
  },
  {
   "cell_type": "code",
   "execution_count": 2,
   "id": "2ed81055-8ec5-4aee-b925-8acfcccddc7c",
   "metadata": {},
   "outputs": [
    {
     "name": "stderr",
     "output_type": "stream",
     "text": [
      "/home/user/kew/anaconda3/envs/ctx_aug_24/lib/python3.8/site-packages/tqdm/auto.py:22: TqdmWarning: IProgress not found. Please update jupyter and ipywidgets. See https://ipywidgets.readthedocs.io/en/stable/user_install.html\n",
      "  from .autonotebook import tqdm as notebook_tqdm\n"
     ]
    }
   ],
   "source": [
    "from datasets import load_dataset, concatenate_datasets\n",
    "from transformers import AutoTokenizer\n",
    "from collections import Counter\n",
    "from typing import List\n",
    "import numpy as np\n",
    "from tqdm import tqdm\n",
    "import pandas as pd\n",
    "from scipy.stats import pearsonr, linregress\n",
    "from scipy.spatial.distance import pdist, cdist, dice, hamming, jaccard\n",
    "import matplotlib.pyplot as plt\n",
    "from data import preprocess_topical_chat_dataset, preprocess_function, load_data, prepare_data_for_model\n",
    "from pprint import pprint\n",
    "from evaluation.sentiment import classify_sentiment_with_vader, parse_vader_result, classify_sentiment\n",
    "from evaluation.sentence_processing import count_questions\n"
   ]
  },
  {
   "cell_type": "code",
   "execution_count": null,
   "id": "9b401db2",
   "metadata": {},
   "outputs": [],
   "source": []
  },
  {
   "cell_type": "code",
   "execution_count": 3,
   "id": "bad777d5-8193-4458-92a2-df5fdcb11fa3",
   "metadata": {},
   "outputs": [],
   "source": [
    "# tokenizer = AutoTokenizer.from_pretrained('../resources/models/seed_23/pt/hf_conv/bart_small-SI_t5/')\n",
    "tokenizer = AutoTokenizer.from_pretrained('facebook/bart-base')"
   ]
  },
  {
   "cell_type": "code",
   "execution_count": 4,
   "id": "4d9b726f-a493-4f4c-bcc0-6bd0b4a3e88b",
   "metadata": {},
   "outputs": [],
   "source": [
    "def load_json_dataset(dataset: Path):   \n",
    "    split = dataset.stem\n",
    "    extension = dataset.suffix.strip('.')\n",
    "    print(split, extension, str(dataset))\n",
    "    dataset_dict = load_dataset(extension, data_files={'test': str(dataset)})\n",
    "    return dataset_dict # concatenate_datasets(loaded_datasets)\n",
    "\n",
    "def tokenize_dataset(dataset):\n",
    "    dataset = dataset.map(\n",
    "    preprocess_topical_chat_dataset,\n",
    "    batched=True,\n",
    "    num_proc=4,\n",
    "    desc=\"Running tokenizer on dataset\",\n",
    "    fn_kwargs={\n",
    "        'tokenizer': tokenizer,\n",
    "        'speaker_id_tag': '<speaker_1>',\n",
    "        'text_column': 'turns',\n",
    "        'summary_column': 'target',\n",
    "        'knowledge_column': 'knowledge',\n",
    "        'knowledge_bucket_size': 32,\n",
    "        'history_bucket_size': 25,\n",
    "        'max_target_length': 128,\n",
    "        'source_prefix': None,\n",
    "        'pad_to_max_length': False,\n",
    "        'ignore_pad_token_for_loss': False,\n",
    "        },\n",
    "    )\n",
    "    \n",
    "    return dataset\n",
    "\n",
    "def flatten(l: List[List]) -> List:\n",
    "    \"\"\"flattens a list of lists\"\"\"\n",
    "    return [item for sublist in l for item in sublist]\n",
    "\n",
    "def get_vocab_stats(dataset, tokenizer=tokenizer):\n",
    "    inputs_tokenized = list(map(tokenizer.convert_ids_to_tokens, dataset['test']['input_ids']))\n",
    "    targets_tokenized = list(map(tokenizer.convert_ids_to_tokens, dataset['test']['labels']))\n",
    "\n",
    "    print('inputs:')\n",
    "    print(inputs_tokenized[:2], '...')\n",
    "    print('targets:')\n",
    "    print(targets_tokenized[:2], '...')\n",
    "\n",
    "    input_vocab = Counter(flatten(inputs_tokenized))\n",
    "    target_vocab = Counter(flatten(targets_tokenized))\n",
    "    total_vocab = input_vocab + target_vocab\n",
    "\n",
    "    print(f'Input vocab items: {len(input_vocab)}')\n",
    "    print(f'Target vocab items: {len(target_vocab)}')\n",
    "    print(f'Combined vocab items: {len(total_vocab)}')\n",
    "    print(f'Most common tokens: {total_vocab.most_common(20)}')\n",
    "\n",
    "    df = pd.DataFrame.from_dict(total_vocab, orient='index').reset_index()\n",
    "    df = df.rename(columns={'index':'token', 0:'freq_count'})\n",
    "    \n",
    "    return df"
   ]
  },
  {
   "cell_type": "code",
   "execution_count": 5,
   "id": "c909d540",
   "metadata": {},
   "outputs": [],
   "source": [
    "import re\n",
    "\n",
    "def remove_speaker_ids(text):\n",
    "    text = re.sub(r'<speaker[0-9]>', '', text)\n",
    "    return text\n",
    "\n",
    "def preprocess(example):\n",
    "    # tokenize the list of turns\n",
    "    turns = example[\"turns\"]\n",
    "    turns = [remove_speaker_ids(turn) for turn in turns]\n",
    "    # get length of non-padded tokens\n",
    "    example[\"turns_length\"] = tokenizer(turns, padding=True, return_tensors='np')['attention_mask'].sum()\n",
    "\n",
    "    # example[\"turns_length\"] = sum(t for t in turns[\"attention_mask\"])\n",
    "\n",
    "    # get length of non-padded tokens\n",
    "    if \"knowledge\" in example:\n",
    "        example[\"knowledge_length\"] = tokenizer(example[\"knowledge\"], return_tensors='np')[\"attention_mask\"].sum()\n",
    "    elif \"context\" in example:\n",
    "        example[\"knowledge_length\"] = tokenizer(example[\"context\"], return_tensors='np')[\"attention_mask\"].sum()\n",
    "    else:\n",
    "        example[\"knowledge_length\"] = 0\n",
    "\n",
    "    # get length of non-padded tokens\n",
    "    example[\"target_length\"] = tokenizer(example[\"target\"], return_tensors='np')[\"attention_mask\"].sum()\n",
    "\n",
    "    return example\n",
    "\n",
    "def preprocess_turns_finegrained(example):\n",
    "    # tokenize the list of turns\n",
    "    turns = example[\"turns\"]\n",
    "    turns = [remove_speaker_ids(turn) for turn in turns]\n",
    "    # get length of non-padded tokens\n",
    "    # example[\"turns_length\"] = tokenizer(turns, padding=True, return_tensors='np')['attention_mask'].sum()\n",
    "\n",
    "    \n",
    "    example[\"turns_length\"] = []\n",
    "    for turn in turns:\n",
    "        example[\"turns_length\"].append(tokenizer(turn, return_tensors='np')['attention_mask'].sum())\n",
    "    # example[\"turns_length\"] = sum(t for t in turns[\"attention_mask\"])\n",
    "\n",
    "    # get length of non-padded tokens\n",
    "    if \"knowledge\" in example:\n",
    "        example[\"knowledge_length\"] = tokenizer(example[\"knowledge\"], return_tensors='np')[\"attention_mask\"].sum()\n",
    "    elif \"context\" in example:\n",
    "        example[\"knowledge_length\"] = tokenizer(example[\"context\"], return_tensors='np')[\"attention_mask\"].sum()\n",
    "    else:\n",
    "        example[\"knowledge_length\"] = 0\n",
    "\n",
    "    # get length of non-padded tokens\n",
    "    example[\"target_length\"] = tokenizer(example[\"target\"], return_tensors='np')[\"attention_mask\"].sum()\n",
    "\n",
    "    return example\n",
    "\n"
   ]
  },
  {
   "cell_type": "code",
   "execution_count": null,
   "id": "e719c4be",
   "metadata": {},
   "outputs": [],
   "source": []
  },
  {
   "cell_type": "code",
   "execution_count": 6,
   "id": "cebb1eeb",
   "metadata": {},
   "outputs": [
    {
     "name": "stdout",
     "output_type": "stream",
     "text": [
      "test_freq json ../resources/data/Topical-Chat/KGD/test_freq.json\n"
     ]
    },
    {
     "name": "stderr",
     "output_type": "stream",
     "text": [
      "Using custom data configuration default-dde5054e7562460d\n",
      "Reusing dataset json (/home/user/kew/.cache/huggingface/datasets/json/default-dde5054e7562460d/0.0.0/a3e658c4731e59120d44081ac10bf85dc7e1388126b92338344ce9661907f253)\n",
      "100%|██████████| 1/1 [00:00<00:00, 12.39it/s]\n",
      "Running tokenizer on dataset: 100%|██████████| 9065/9065 [00:07<00:00, 1207.16ex/s]\n"
     ]
    },
    {
     "name": "stdout",
     "output_type": "stream",
     "text": [
      "test_freq\n",
      "45325\n",
      "Mean turns length: 26.387468284611142\n",
      "Median turns length: 24.0\n",
      "Max turns length: 101\n",
      "Min turns length: 3\n"
     ]
    },
    {
     "data": {
      "text/plain": [
       "{'whiskers': [<matplotlib.lines.Line2D at 0x7fb93e4558e0>,\n",
       "  <matplotlib.lines.Line2D at 0x7fb93e455bb0>],\n",
       " 'caps': [<matplotlib.lines.Line2D at 0x7fb93e455e80>,\n",
       "  <matplotlib.lines.Line2D at 0x7fb939dd3190>],\n",
       " 'boxes': [<matplotlib.lines.Line2D at 0x7fb93e455610>],\n",
       " 'medians': [<matplotlib.lines.Line2D at 0x7fb939dd3460>],\n",
       " 'fliers': [<matplotlib.lines.Line2D at 0x7fb939dd3730>],\n",
       " 'means': []}"
      ]
     },
     "execution_count": 6,
     "metadata": {},
     "output_type": "execute_result"
    },
    {
     "data": {
      "image/png": "[encoded data removed]",
      "text/plain": [
       "<Figure size 640x480 with 1 Axes>"
      ]
     },
     "metadata": {},
     "output_type": "display_data"
    }
   ],
   "source": [
    "for split in ['test_freq']:\n",
    "    d = load_json_dataset(Path(f'../resources/data/Topical-Chat/KGD/{split}.json'))\n",
    "    d = d.map(preprocess_turns_finegrained, batched=False, num_proc=1, desc=\"Running tokenizer on dataset\")\n",
    "    print(split)\n",
    "\n",
    "# flatten d['test']['turns_length'] into a single list\n",
    "turns_lengths = [item for sublist in d['test']['turns_length'] for item in sublist]\n",
    "print(len(turns_lengths))\n",
    "print(f\"Mean turns length: {np.mean(turns_lengths)}\")\n",
    "print(f\"Median turns length: {np.median(turns_lengths)}\")\n",
    "print(f\"Max turns length: {np.max(turns_lengths)}\")\n",
    "print(f\"Min turns length: {np.min(turns_lengths)}\")\n",
    "\n",
    "# plot box and whisker plot\n",
    "plt.boxplot(turns_lengths)"
   ]
  },
  {
   "cell_type": "code",
   "execution_count": 6,
   "id": "6a9f1da8",
   "metadata": {},
   "outputs": [
    {
     "name": "stdout",
     "output_type": "stream",
     "text": [
      "train json ../resources/data/Topical-Chat/KGD/train.json\n"
     ]
    },
    {
     "name": "stderr",
     "output_type": "stream",
     "text": [
      "Using custom data configuration default-7c84b0d4f047979e\n"
     ]
    },
    {
     "name": "stdout",
     "output_type": "stream",
     "text": [
      "Downloading and preparing dataset json/default to /home/user/kew/.cache/huggingface/datasets/json/default-7c84b0d4f047979e/0.0.0/a3e658c4731e59120d44081ac10bf85dc7e1388126b92338344ce9661907f253...\n"
     ]
    },
    {
     "name": "stderr",
     "output_type": "stream",
     "text": [
      "Downloading data files: 100%|██████████| 1/1 [00:00<00:00, 3809.54it/s]\n",
      "Extracting data files: 100%|██████████| 1/1 [00:00<00:00, 229.75it/s]\n",
      "                                 \r"
     ]
    },
    {
     "name": "stdout",
     "output_type": "stream",
     "text": [
      "Dataset json downloaded and prepared to /home/user/kew/.cache/huggingface/datasets/json/default-7c84b0d4f047979e/0.0.0/a3e658c4731e59120d44081ac10bf85dc7e1388126b92338344ce9661907f253. Subsequent calls will reuse this data.\n"
     ]
    },
    {
     "name": "stderr",
     "output_type": "stream",
     "text": [
      "100%|██████████| 1/1 [00:00<00:00, 47.62it/s]\n",
      "Running tokenizer on dataset: 100%|██████████| 145238/145238 [03:52<00:00, 624.35ex/s]\n"
     ]
    },
    {
     "name": "stdout",
     "output_type": "stream",
     "text": [
      "train\n",
      "26.60 +/- 17.33\n",
      "133.03 +/- 39.61\n",
      "31.25 +/- 12.22\n",
      "\n",
      "valid_freq json ../resources/data/Topical-Chat/KGD/valid_freq.json\n"
     ]
    },
    {
     "name": "stderr",
     "output_type": "stream",
     "text": [
      "Using custom data configuration default-17a4183d80a8691e\n"
     ]
    },
    {
     "name": "stdout",
     "output_type": "stream",
     "text": [
      "Downloading and preparing dataset json/default to /home/user/kew/.cache/huggingface/datasets/json/default-17a4183d80a8691e/0.0.0/a3e658c4731e59120d44081ac10bf85dc7e1388126b92338344ce9661907f253...\n"
     ]
    },
    {
     "name": "stderr",
     "output_type": "stream",
     "text": [
      "Downloading data files: 100%|██████████| 1/1 [00:00<00:00, 3584.88it/s]\n",
      "Extracting data files: 100%|██████████| 1/1 [00:00<00:00, 317.53it/s]\n",
      "                            \r"
     ]
    },
    {
     "name": "stdout",
     "output_type": "stream",
     "text": [
      "Dataset json downloaded and prepared to /home/user/kew/.cache/huggingface/datasets/json/default-17a4183d80a8691e/0.0.0/a3e658c4731e59120d44081ac10bf85dc7e1388126b92338344ce9661907f253. Subsequent calls will reuse this data.\n"
     ]
    },
    {
     "name": "stderr",
     "output_type": "stream",
     "text": [
      "100%|██████████| 1/1 [00:00<00:00, 374.46it/s]\n",
      "Running tokenizer on dataset: 100%|██████████| 8986/8986 [00:15<00:00, 588.98ex/s]\n"
     ]
    },
    {
     "name": "stdout",
     "output_type": "stream",
     "text": [
      "valid_freq\n",
      "33.25 +/- 19.03\n",
      "134.16 +/- 38.61\n",
      "31.62 +/- 12.12\n",
      "\n",
      "test_freq json ../resources/data/Topical-Chat/KGD/test_freq.json\n"
     ]
    },
    {
     "name": "stderr",
     "output_type": "stream",
     "text": [
      "Using custom data configuration default-dde5054e7562460d\n"
     ]
    },
    {
     "name": "stdout",
     "output_type": "stream",
     "text": [
      "Downloading and preparing dataset json/default to /home/user/kew/.cache/huggingface/datasets/json/default-dde5054e7562460d/0.0.0/a3e658c4731e59120d44081ac10bf85dc7e1388126b92338344ce9661907f253...\n"
     ]
    },
    {
     "name": "stderr",
     "output_type": "stream",
     "text": [
      "Downloading data files: 100%|██████████| 1/1 [00:00<00:00, 3734.91it/s]\n",
      "Extracting data files: 100%|██████████| 1/1 [00:00<00:00, 321.53it/s]\n",
      "                            \r"
     ]
    },
    {
     "name": "stdout",
     "output_type": "stream",
     "text": [
      "Dataset json downloaded and prepared to /home/user/kew/.cache/huggingface/datasets/json/default-dde5054e7562460d/0.0.0/a3e658c4731e59120d44081ac10bf85dc7e1388126b92338344ce9661907f253. Subsequent calls will reuse this data.\n"
     ]
    },
    {
     "name": "stderr",
     "output_type": "stream",
     "text": [
      "100%|██████████| 1/1 [00:00<00:00, 379.64it/s]\n",
      "Running tokenizer on dataset: 100%|██████████| 9065/9065 [00:14<00:00, 607.85ex/s]\n"
     ]
    },
    {
     "name": "stdout",
     "output_type": "stream",
     "text": [
      "test_freq\n",
      "29.07 +/- 17.65\n",
      "131.94 +/- 37.42\n",
      "31.16 +/- 11.97\n",
      "\n",
      "test_rare json ../resources/data/Topical-Chat/KGD/test_rare.json\n"
     ]
    },
    {
     "name": "stderr",
     "output_type": "stream",
     "text": [
      "Using custom data configuration default-ec2db4f48d143b54\n"
     ]
    },
    {
     "name": "stdout",
     "output_type": "stream",
     "text": [
      "Downloading and preparing dataset json/default to /home/user/kew/.cache/huggingface/datasets/json/default-ec2db4f48d143b54/0.0.0/a3e658c4731e59120d44081ac10bf85dc7e1388126b92338344ce9661907f253...\n"
     ]
    },
    {
     "name": "stderr",
     "output_type": "stream",
     "text": [
      "Downloading data files: 100%|██████████| 1/1 [00:00<00:00, 1500.65it/s]\n",
      "Extracting data files: 100%|██████████| 1/1 [00:00<00:00, 278.27it/s]\n",
      "                            \r"
     ]
    },
    {
     "name": "stdout",
     "output_type": "stream",
     "text": [
      "Dataset json downloaded and prepared to /home/user/kew/.cache/huggingface/datasets/json/default-ec2db4f48d143b54/0.0.0/a3e658c4731e59120d44081ac10bf85dc7e1388126b92338344ce9661907f253. Subsequent calls will reuse this data.\n"
     ]
    },
    {
     "name": "stderr",
     "output_type": "stream",
     "text": [
      "100%|██████████| 1/1 [00:00<00:00, 386.18it/s]\n",
      "Running tokenizer on dataset: 100%|██████████| 9075/9075 [00:15<00:00, 603.86ex/s]\n"
     ]
    },
    {
     "name": "stdout",
     "output_type": "stream",
     "text": [
      "test_rare\n",
      "28.50 +/- 17.07\n",
      "133.94 +/- 40.25\n",
      "31.38 +/- 12.39\n",
      "\n"
     ]
    }
   ],
   "source": [
    "\n",
    "# Topical Chat\n",
    "for split in ['train', 'valid_freq', 'test_freq', 'test_rare']:\n",
    "    d = load_json_dataset(Path(f'../resources/data/Topical-Chat/KGD/{split}.json'))\n",
    "    d = d.map(preprocess, batched=False, num_proc=1, desc=\"Running tokenizer on dataset\")\n",
    "    print(split)\n",
    "    print(f\"{np.array(d['test']['knowledge_length']).mean():.2f} +/- {np.array(d['test']['knowledge_length']).std():.2f}\")\n",
    "    print(f\"{np.array(d['test']['turns_length']).mean():.2f} +/- {np.array(d['test']['turns_length']).std():.2f}\")\n",
    "    print(f\"{np.array(d['test']['target_length']).mean():.2f} +/- {np.array(d['test']['target_length']).std():.2f}\")\n",
    "    print()\n",
    "\n"
   ]
  },
  {
   "cell_type": "code",
   "execution_count": 7,
   "id": "c98883e7",
   "metadata": {},
   "outputs": [
    {
     "name": "stdout",
     "output_type": "stream",
     "text": [
      "train json ../resources/data/Topical-Chat/KGD/train.json\n"
     ]
    },
    {
     "name": "stderr",
     "output_type": "stream",
     "text": [
      "Using custom data configuration default-7c84b0d4f047979e\n",
      "Reusing dataset json (/home/user/kew/.cache/huggingface/datasets/json/default-7c84b0d4f047979e/0.0.0/a3e658c4731e59120d44081ac10bf85dc7e1388126b92338344ce9661907f253)\n",
      "100%|██████████| 1/1 [00:00<00:00,  1.57it/s]\n",
      "Running tokenizer on dataset: 100%|██████████| 145238/145238 [03:51<00:00, 627.61ex/s]\n"
     ]
    },
    {
     "data": {
      "text/plain": [
       "DatasetDict({\n",
       "    test: Dataset({\n",
       "        features: ['turns', 'knowledge', 'target', 'turns_length', 'knowledge_length', 'target_length'],\n",
       "        num_rows: 145238\n",
       "    })\n",
       "})"
      ]
     },
     "execution_count": 7,
     "metadata": {},
     "output_type": "execute_result"
    }
   ],
   "source": [
    "# for split in ['train']:\n",
    "d = load_json_dataset(Path(f'../resources/data/Topical-Chat/KGD/{split}.json'))\n",
    "d = d.map(preprocess, batched=False, num_proc=1, desc=\"Running tokenizer on dataset\")\n",
    "d"
   ]
  },
  {
   "cell_type": "code",
   "execution_count": 8,
   "id": "5a41b6b6",
   "metadata": {},
   "outputs": [],
   "source": [
    "# analyse the sentiment distribution in the training data\n",
    "sentiments = classify_sentiment_with_vader(d['test']['target'])\n"
   ]
  },
  {
   "cell_type": "code",
   "execution_count": 12,
   "id": "cebb4b03",
   "metadata": {},
   "outputs": [
    {
     "data": {
      "text/plain": [
       "[{'label': 'POSITIVE', 'score': 0.4588},\n",
       " {'label': 'NEGATIVE', 'score': -0.2732}]"
      ]
     },
     "execution_count": 12,
     "metadata": {},
     "output_type": "execute_result"
    }
   ],
   "source": [
    "sentiments[:2]"
   ]
  },
  {
   "cell_type": "code",
   "execution_count": 13,
   "id": "fae26cc2",
   "metadata": {},
   "outputs": [
    {
     "data": {
      "text/html": [
       "<div>\n",
       "<style scoped>\n",
       "    .dataframe tbody tr th:only-of-type {\n",
       "        vertical-align: middle;\n",
       "    }\n",
       "\n",
       "    .dataframe tbody tr th {\n",
       "        vertical-align: top;\n",
       "    }\n",
       "\n",
       "    .dataframe thead th {\n",
       "        text-align: right;\n",
       "    }\n",
       "</style>\n",
       "<table border=\"1\" class=\"dataframe\">\n",
       "  <thead>\n",
       "    <tr style=\"text-align: right;\">\n",
       "      <th></th>\n",
       "      <th>label</th>\n",
       "      <th>score</th>\n",
       "    </tr>\n",
       "  </thead>\n",
       "  <tbody>\n",
       "    <tr>\n",
       "      <th>0</th>\n",
       "      <td>POSITIVE</td>\n",
       "      <td>0.4588</td>\n",
       "    </tr>\n",
       "    <tr>\n",
       "      <th>1</th>\n",
       "      <td>NEGATIVE</td>\n",
       "      <td>-0.2732</td>\n",
       "    </tr>\n",
       "    <tr>\n",
       "      <th>2</th>\n",
       "      <td>POSITIVE</td>\n",
       "      <td>0.4576</td>\n",
       "    </tr>\n",
       "    <tr>\n",
       "      <th>3</th>\n",
       "      <td>POSITIVE</td>\n",
       "      <td>0.5574</td>\n",
       "    </tr>\n",
       "    <tr>\n",
       "      <th>4</th>\n",
       "      <td>POSITIVE</td>\n",
       "      <td>0.2023</td>\n",
       "    </tr>\n",
       "    <tr>\n",
       "      <th>...</th>\n",
       "      <td>...</td>\n",
       "      <td>...</td>\n",
       "    </tr>\n",
       "    <tr>\n",
       "      <th>145233</th>\n",
       "      <td>NEGATIVE</td>\n",
       "      <td>-0.2026</td>\n",
       "    </tr>\n",
       "    <tr>\n",
       "      <th>145234</th>\n",
       "      <td>POSITIVE</td>\n",
       "      <td>0.2960</td>\n",
       "    </tr>\n",
       "    <tr>\n",
       "      <th>145235</th>\n",
       "      <td>NEGATIVE</td>\n",
       "      <td>-0.4019</td>\n",
       "    </tr>\n",
       "    <tr>\n",
       "      <th>145236</th>\n",
       "      <td>POSITIVE</td>\n",
       "      <td>0.8519</td>\n",
       "    </tr>\n",
       "    <tr>\n",
       "      <th>145237</th>\n",
       "      <td>NEUTRAL</td>\n",
       "      <td>0.0000</td>\n",
       "    </tr>\n",
       "  </tbody>\n",
       "</table>\n",
       "<p>145238 rows × 2 columns</p>\n",
       "</div>"
      ],
      "text/plain": [
       "           label   score\n",
       "0       POSITIVE  0.4588\n",
       "1       NEGATIVE -0.2732\n",
       "2       POSITIVE  0.4576\n",
       "3       POSITIVE  0.5574\n",
       "4       POSITIVE  0.2023\n",
       "...          ...     ...\n",
       "145233  NEGATIVE -0.2026\n",
       "145234  POSITIVE  0.2960\n",
       "145235  NEGATIVE -0.4019\n",
       "145236  POSITIVE  0.8519\n",
       "145237   NEUTRAL  0.0000\n",
       "\n",
       "[145238 rows x 2 columns]"
      ]
     },
     "execution_count": 13,
     "metadata": {},
     "output_type": "execute_result"
    }
   ],
   "source": [
    "sentiment_df = pd.DataFrame(sentiments)\n",
    "sentiment_df"
   ]
  },
  {
   "cell_type": "code",
   "execution_count": 33,
   "id": "46b715bd",
   "metadata": {},
   "outputs": [
    {
     "data": {
      "text/plain": [
       "<AxesSubplot:>"
      ]
     },
     "execution_count": 33,
     "metadata": {},
     "output_type": "execute_result"
    },
    {
     "data": {
      "image/png": "[encoded data removed]",
      "text/plain": [
       "<Figure size 640x480 with 1 Axes>"
      ]
     },
     "metadata": {},
     "output_type": "display_data"
    }
   ],
   "source": [
    "# create colorpalette with lightgreen, grey, lightcoral\n",
    "color_palette = ['lightgreen', 'lightgrey', 'lightcoral']\n",
    "sentiment_df['label'].value_counts().plot(kind='bar', color=color_palette)"
   ]
  },
  {
   "cell_type": "code",
   "execution_count": 48,
   "id": "6fb3b26b",
   "metadata": {},
   "outputs": [
    {
     "data": {
      "text/plain": [
       "Text(0.5, 1.0, 'Sentiment Distribution of Target Sentences\\nin Topical Chat KGD Training Set')"
      ]
     },
     "execution_count": 48,
     "metadata": {},
     "output_type": "execute_result"
    },
    {
     "data": {
      "image/png": "[encoded data removed]",
      "text/plain": [
       "<Figure size 500x500 with 1 Axes>"
      ]
     },
     "metadata": {},
     "output_type": "display_data"
    }
   ],
   "source": [
    "import seaborn as sns\n",
    "# plot the sentiment distribution of positive, negative and neutral sentiments\n",
    "fig, ax = plt.subplots(1, 1, figsize=(5, 5))\n",
    "# ax = sns.histplot(\n",
    "#     sentiment_df, \n",
    "#     x='label', \n",
    "#     hue='label', \n",
    "#     bins=3, \n",
    "#     kde=True, \n",
    "#     ax=ax, \n",
    "#     hue_order=['POSITIVE', 'NEUTRAL', 'NEGATIVE'], \n",
    "#     # colors=['lightgreen', 'yellow', 'lightcoral']\n",
    "#     )\n",
    "\n",
    "ax = sns.histplot(\n",
    "    sentiment_df, \n",
    "    x='score', \n",
    "    hue='label', \n",
    "    bins=3, \n",
    "    # kde=True, \n",
    "    ax=ax, \n",
    "    hue_order=['POSITIVE', 'NEUTRAL', 'NEGATIVE'], \n",
    "    multiple=\"stack\",\n",
    "    stat=\"percent\",\n",
    "    palette=color_palette,\n",
    "    # line_kws={'linewidth': 2}\n",
    "    # hist_kws=dict(edgecolor=\"k\", linewidth=2),\n",
    "    edgecolor='w'\n",
    "    # colors=['lightgreen', 'yellow', 'lightcoral']\n",
    "    )\n",
    "\n",
    "# hide splines\n",
    "ax.spines['top'].set_visible(False)\n",
    "ax.spines['right'].set_visible(False)\n",
    "\n",
    "ax.set_title('Sentiment Distribution of Target Sentences\\nin Topical Chat KGD Training Set')\n"
   ]
  },
  {
   "cell_type": "code",
   "execution_count": null,
   "id": "dbe63fa0",
   "metadata": {},
   "outputs": [],
   "source": [
    "\n",
    "# CSD\n",
    "for split in ['train', 'valid', 'test']:\n",
    "    d = load_json_dataset(Path(f'../resources/data/Commonsense-Dialogues/CSD/{split}.json'))\n",
    "    d = d.map(preprocess, batched=False, num_proc=1, desc=\"Running tokenizer on dataset\")\n",
    "    print(split)\n",
    "    print(rf\"${np.array(d['test']['knowledge_length']).mean():.2f}_{{\\pm {np.array(d['test']['knowledge_length']).std():.2f}}}$ & ${np.array(d['test']['turns_length']).mean():.2f}_{{\\pm {np.array(d['test']['turns_length']).std():.2f}}}$ & ${np.array(d['test']['target_length']).mean():.2f}_{{\\pm {np.array(d['test']['target_length']).std():.2f}}}$\")\n",
    "    print()\n",
    "\n",
    "\n",
    "# DD\n",
    "for split in ['train', 'valid', 'test']:\n",
    "    d = load_json_dataset(Path(f'../resources/data/Daily-Dialog/DD/{split}.json'))\n",
    "    d = d.map(preprocess, batched=False, num_proc=1, desc=\"Running tokenizer on dataset\")\n",
    "    print(split)\n",
    "    print(rf\"${np.array(d['test']['knowledge_length']).mean():.2f}_{{\\pm {np.array(d['test']['knowledge_length']).std():.2f}}}$ & ${np.array(d['test']['turns_length']).mean():.2f}_{{\\pm {np.array(d['test']['turns_length']).std():.2f}}}$ & ${np.array(d['test']['target_length']).mean():.2f}_{{\\pm {np.array(d['test']['target_length']).std():.2f}}}$\")\n",
    "    print()\n"
   ]
  },
  {
   "cell_type": "code",
   "execution_count": 6,
   "id": "2a48fa7a-f7f7-4c46-9e37-7eb1487eb142",
   "metadata": {},
   "outputs": [],
   "source": [
    "# dataset = load_json_dataset(Path('../resources/data/Topical-Chat/KGD/test_rare.json'))\n",
    "# print(dataset)\n",
    "# dataset = tokenize_dataset(dataset)\n",
    "# df_rare = get_vocab_stats(dataset)\n",
    "# df_rare.plot(logy=True)"
   ]
  },
  {
   "cell_type": "code",
   "execution_count": 7,
   "id": "8b42bfdb-2ccb-49c7-ad50-24350b3f6bac",
   "metadata": {},
   "outputs": [],
   "source": [
    "# dataset = load_json_dataset(Path('../resources/data/Topical-Chat/KGD/test_freq.json'))\n",
    "# dataset = tokenize_dataset(dataset)\n",
    "# df_freq = get_vocab_stats(dataset)\n",
    "# df_freq.plot(logy=True)"
   ]
  },
  {
   "cell_type": "code",
   "execution_count": 9,
   "id": "cca9ca74-7c49-442d-84aa-43f5d385955d",
   "metadata": {},
   "outputs": [
    {
     "name": "stdout",
     "output_type": "stream",
     "text": [
      "train json ../resources/data/Topical-Chat/KGD/train.json\n"
     ]
    },
    {
     "name": "stderr",
     "output_type": "stream",
     "text": [
      "Using custom data configuration default-6eeac8f03b3b7ea5\n",
      "Reusing dataset json (/home/user/kew/.cache/huggingface/datasets/json/default-6eeac8f03b3b7ea5/0.0.0/a3e658c4731e59120d44081ac10bf85dc7e1388126b92338344ce9661907f253)\n",
      "100%|██████████| 1/1 [00:00<00:00, 52.92it/s]\n"
     ]
    },
    {
     "name": "stdout",
     "output_type": "stream",
     "text": [
      "Dataset({\n",
      "    features: ['turns', 'knowledge', 'target'],\n",
      "    num_rows: 145238\n",
      "})\n",
      "{'knowledge': 'In August 2015, Google announced plans to reorganize its '\n",
      "              'various interests as a conglomerate called Alphabet Inc. Google '\n",
      "              \"is Alphabet's leading subsidiary and will continue to be the \"\n",
      "              \"umbrella company for Alphabet's Internet interests.\",\n",
      " 'target': '<speaker2> Google is leading the alphabet subsidiary and will '\n",
      "           'continue to be the Umbrella company for Alphabet internet '\n",
      "           'interest.',\n",
      " 'turns': ['<speaker1> Are you a fan of Google or Microsoft?',\n",
      "           '<speaker2> Both are excellent technology they are helpful in many '\n",
      "           'ways. For the security purpose both are super.',\n",
      "           \"<speaker1> I'm not a huge fan of Google, but I use it a lot \"\n",
      "           'because I have to. I think they are a monopoly in some sense.',\n",
      "           '<speaker2> Google provides online related services and products, '\n",
      "           'which includes online ads, search engine and cloud computing.',\n",
      "           \"<speaker1> Yeah, their services are good. I'm just not a fan of \"\n",
      "           'intrusive they can be on our personal lives.']}\n",
      "train json ../resources/data/Commonsense-Dialogues/CSD/train.json\n"
     ]
    },
    {
     "name": "stderr",
     "output_type": "stream",
     "text": [
      "Using custom data configuration default-9b1ffaf69c26b3b2\n",
      "Reusing dataset json (/home/user/kew/.cache/huggingface/datasets/json/default-9b1ffaf69c26b3b2/0.0.0/a3e658c4731e59120d44081ac10bf85dc7e1388126b92338344ce9661907f253)\n",
      "100%|██████████| 1/1 [00:00<00:00, 739.87it/s]\n"
     ]
    },
    {
     "name": "stdout",
     "output_type": "stream",
     "text": [
      "Dataset({\n",
      "    features: ['turns', 'context', 'target'],\n",
      "    num_rows: 9060\n",
      "})\n",
      "{'context': 'kai was a reasonable person who was listened to so he put her '\n",
      "            'life in perspective.',\n",
      " 'target': '<speaker2> Kai that was really thoughtful of you',\n",
      " 'turns': ['<speaker1> I know what she was going through was hard but this is '\n",
      "           'just a temporary feeling',\n",
      "           '<speaker2> And she is young indeed.',\n",
      "           \"<speaker1> everything will be okay. I'll be there for her\",\n",
      "           '<speaker2> It must hurt so much now though',\n",
      "           '<speaker1> I told her that after every bad thing that happens, '\n",
      "           'there is good that happens. She is a good person and good things '\n",
      "           'will happen to her']}\n",
      "train json ../resources/data/Daily-Dialog/DD/train.json\n"
     ]
    },
    {
     "name": "stderr",
     "output_type": "stream",
     "text": [
      "Using custom data configuration default-cd043acd9530e38c\n",
      "Reusing dataset json (/home/user/kew/.cache/huggingface/datasets/json/default-cd043acd9530e38c/0.0.0/a3e658c4731e59120d44081ac10bf85dc7e1388126b92338344ce9661907f253)\n",
      "100%|██████████| 1/1 [00:00<00:00, 236.55it/s]"
     ]
    },
    {
     "name": "stdout",
     "output_type": "stream",
     "text": [
      "Dataset({\n",
      "    features: ['turns', 'context', 'target'],\n",
      "    num_rows: 39572\n",
      "})\n",
      "{'context': '',\n",
      " 'target': '<speaker2> I suggest a walk over to the gym where we can play '\n",
      "           'singsong and meet some of our friends.',\n",
      " 'turns': ['<speaker1> Say, Jim, how about going for a few beers after dinner?',\n",
      "           '<speaker2> You know that is tempting but is really not good for '\n",
      "           'our fitness.',\n",
      "           '<speaker1> What do you mean? It will help us to relax.',\n",
      "           \"<speaker2> Do you really think so? I don't. It will just make us \"\n",
      "           'fat and act silly. Remember last time?',\n",
      "           \"<speaker1> I guess you are right.But what shall we do? I don't \"\n",
      "           'feel like sitting at home.']}\n"
     ]
    },
    {
     "name": "stderr",
     "output_type": "stream",
     "text": [
      "\n"
     ]
    }
   ],
   "source": [
    "kgd = load_json_dataset(Path('../resources/data/Topical-Chat/KGD/train.json'))['test']\n",
    "print(kgd)\n",
    "pprint(kgd[0])\n",
    "\n",
    "csd = load_json_dataset(Path('../resources/data/Commonsense-Dialogues/CSD/train.json'))['test']\n",
    "print(csd)\n",
    "pprint(csd[0])\n",
    "\n",
    "dd = load_json_dataset(Path('../resources/data/Daily-Dialog/DD/train.json'))['test']\n",
    "print(dd)\n",
    "pprint(dd[0])\n"
   ]
  },
  {
   "cell_type": "code",
   "execution_count": 16,
   "id": "34649072",
   "metadata": {},
   "outputs": [],
   "source": [
    "# length analysis of each dataset\n",
    "\n",
    "def get_lengths(dataset):\n",
    "    lengths = {}\n",
    "    for item in dataset:\n",
    "        for key, value in item.items():\n",
    "            if key not in lengths:\n",
    "                lengths[key] = []\n",
    "            if isinstance(value, str):\n",
    "                lengths[key].append(len(value))\n",
    "            elif isinstance(value, list):\n",
    "                for v in value:\n",
    "                    lengths[key].append(len(v))\n",
    "\n",
    "    return lengths\n",
    "\n",
    "csd_lengths = get_lengths(csd)\n",
    "kgd_lengths = get_lengths(kgd)\n",
    "dd_lengths = get_lengths(dd)\n",
    "\n",
    "# # construct a dataframe with the lengths\n",
    "# df_csd = pd.DataFrame(csd_lengths)\n",
    "# df_kgd = pd.DataFrame(kgd_lengths)\n",
    "# df_dd = pd.DataFrame(dd_lengths)\n",
    "\n"
   ]
  },
  {
   "cell_type": "code",
   "execution_count": 22,
   "id": "d47b956f",
   "metadata": {},
   "outputs": [
    {
     "data": {
      "image/png": "[encoded data removed]",
      "text/plain": [
       "<Figure size 800x400 with 2 Axes>"
      ]
     },
     "metadata": {},
     "output_type": "display_data"
    }
   ],
   "source": [
    "# plot length distributions of turns for each dataset\n",
    "\n",
    "fig, axs = plt.subplots(1, 2, figsize=(8, 4))\n",
    "\n",
    "axs[0].hist(kgd_lengths['turns'], bins=100, alpha=0.5, label='KGD', color='blue', density=True)\n",
    "axs[0].hist(csd_lengths['turns'], bins=100, alpha=0.5, label='CSD', color='orange', density=True)\n",
    "axs[0].hist(dd_lengths['turns'], bins=100, alpha=0.5, label='DD', color='green', density=True)\n",
    "\n",
    "axs[1].hist(kgd_lengths['target'], bins=100, alpha=0.5, label='KGD', color='blue', density=True)\n",
    "axs[1].hist(csd_lengths['target'], bins=100, alpha=0.5, label='CSD', color='orange', density=True)\n",
    "axs[1].hist(dd_lengths['target'], bins=100, alpha=0.5, label='DD', color='green', density=True)\n",
    "\n",
    "axs[0].set_title('Turns')\n",
    "axs[1].set_title('Target')\n",
    "plt.legend()\n",
    "axs[0].set_xlim(0, 400)\n",
    "axs[1].set_xlim(0, 400)\n",
    "\n",
    "plt.show();"
   ]
  },
  {
   "cell_type": "code",
   "execution_count": null,
   "id": "540904af",
   "metadata": {},
   "outputs": [],
   "source": [
    "# def get_src_tgt_question_counts(example):\n",
    "#     example['qus'] = count_questions(example['turns'] + [example['target']], verbose=False).tolist()\n",
    "#     return example\n",
    "\n",
    "# dataset = dataset.map(get_src_tgt_question_counts, batched=True, desc=\"Counting questions\")\n",
    "# print(dataset)\n",
    "# print(dataset[0])\n",
    "# # get_src_tgt_question_counts(dataset, '../resources/data/Topical-Chat/KGD/train_src_tgt_question_counts.csv')\n",
    "\n",
    "\n",
    "# # def get_src_tgt_question_counts(dataset, outfile):\n",
    "    \n",
    "# #     with open(outfile, 'w', encoding='utf8') as f:\n",
    "# #         for i, item in tqdm(enumerate(dataset)):\n",
    "# #             result = count_questions(item['turns'] + [item['target']], verbose=False).tolist()\n",
    "# #             # src_tgt_questions.append(result)\n",
    "# #             f.write(f\",\".join(map(str, result)) + '\\n')\n",
    "# #             if i < 5:\n",
    "# #                 print(result)\n",
    "                \n",
    "# #     print(f'Wrote {i+0} items to {outfile}')\n",
    "\n",
    "# #     return\n",
    "    \n",
    "# # get_src_tgt_question_counts(dataset, '../resources/data/Topical-Chat/KGD/train_src_tgt_question_counts.csv')\n"
   ]
  },
  {
   "cell_type": "code",
   "execution_count": 13,
   "id": "39e8ec7a-9469-4989-be76-ab7d14ed6fb2",
   "metadata": {},
   "outputs": [],
   "source": [
    "# flattened_turns = flatten(dataset['test']['turns'][:20])\n",
    "# flattened_turn_preds = classify_sentiment(flattened_turns, model_name=\"distilbert-base-uncased-finetuned-sst-2-english\", batch_size=20)\n",
    "# turn_preds = np.split(np.array([1 if x['label'] == 'POSITIVE' else 0 for x in flattened_turn_preds]), len(flattened_turn_preds)//len(dataset['test']['turns'][0]))\n",
    "# turn_preds\n",
    "\n",
    "# tgt_preds = classify_sentiment(dataset['test']['target'][:20], model_name=\"distilbert-base-uncased-finetuned-sst-2-english\", batch_size=20)\n",
    "# tgt_preds = np.array([1 if x['label'] == 'POSITIVE' else 0 for x in tgt_preds])\n",
    "# tgt_preds\n",
    "\n"
   ]
  },
  {
   "cell_type": "code",
   "execution_count": null,
   "id": "80ad3bdb-e626-4e04-9d5a-c4f5440a3fa7",
   "metadata": {},
   "outputs": [
    {
     "data": {
      "text/plain": [
       "[0, 0, 0, 1, 1, 2, 2, 3, 2, 3, 2, 3, 3, 3, 2, 3, 3, 2, 3, 4]"
      ]
     },
     "execution_count": 43,
     "metadata": {},
     "output_type": "execute_result"
    }
   ],
   "source": []
  },
  {
   "cell_type": "code",
   "execution_count": 41,
   "id": "4bd24d26-ec67-4869-9968-0c1ca565aaa4",
   "metadata": {},
   "outputs": [
    {
     "name": "stderr",
     "output_type": "stream",
     "text": [
      "100%|██████████| 20/20 [00:00<00:00, 94466.31it/s]\n"
     ]
    },
    {
     "data": {
      "text/plain": [
       "array([0, 0, 1, 0, 1, 0, 1, 0, 1, 0, 1, 1, 0, 0, 1, 1, 1, 1, 1, 0])"
      ]
     },
     "execution_count": 41,
     "metadata": {},
     "output_type": "execute_result"
    }
   ],
   "source": []
  },
  {
   "cell_type": "code",
   "execution_count": 12,
   "id": "eea17359-ad1d-443d-8d17-85f427934698",
   "metadata": {},
   "outputs": [],
   "source": [
    "def is_question(text):\n",
    "    if isinstance(text, list):\n",
    "        return sum(list(map(is_question, text)))\n",
    "    if '?' in text:\n",
    "        return 1\n",
    "    else:\n",
    "        return 0\n",
    "\n",
    "src_qus = np.array(list(map(is_question, dataset['test']['turns'])))\n",
    "src_qus_ind = np.int64(src_qus > 0)\n",
    "tgt_qus = np.array(list(map(is_question, dataset['test']['target'])))"
   ]
  },
  {
   "cell_type": "code",
   "execution_count": 94,
   "id": "cc4beb9e-adcf-4984-b1d9-542d639d5804",
   "metadata": {},
   "outputs": [
    {
     "name": "stdout",
     "output_type": "stream",
     "text": [
      "PearsonRResult(statistic=0.09551351159407137, pvalue=2.032077577753429e-291)\n",
      "PearsonRResult(statistic=0.07832829958475114, pvalue=2.1735134661694424e-196)\n"
     ]
    }
   ],
   "source": [
    "print(pearsonr(src_qus,tgt_qus))\n",
    "print(pearsonr(src_qus_ind,tgt_qus))"
   ]
  },
  {
   "cell_type": "code",
   "execution_count": 22,
   "id": "761e36e5-2da5-45f8-a0e4-64ad1aaa05dc",
   "metadata": {},
   "outputs": [
    {
     "name": "stdout",
     "output_type": "stream",
     "text": [
      "0.5762186421770825\n",
      "0.611726958509481\n",
      "0.7311404988602418\n",
      "0.9020383979196327\n"
     ]
    }
   ],
   "source": [
    "print(dice(src_qus_ind,tgt_qus))\n",
    "print(hamming(src_qus_ind,tgt_qus))\n",
    "print(jaccard(src_qus_ind,tgt_qus))\n",
    "print(jaccard(src_qus,tgt_qus))"
   ]
  },
  {
   "cell_type": "code",
   "execution_count": 116,
   "id": "e8d80060-04e0-4ca5-bf3e-225f747da48b",
   "metadata": {},
   "outputs": [
    {
     "data": {
      "text/plain": [
       "<matplotlib.image.AxesImage at 0x7fc04fee4d90>"
      ]
     },
     "execution_count": 116,
     "metadata": {},
     "output_type": "execute_result"
    },
    {
     "data": {
      "image/png": "[encoded data removed]",
      "text/plain": [
       "<Figure size 640x480 with 1 Axes>"
      ]
     },
     "metadata": {},
     "output_type": "display_data"
    }
   ],
   "source": [
    "plt.imshow(np.corrcoef(src_qus,tgt_qus), cmap='hot', interpolation='nearest')"
   ]
  },
  {
   "cell_type": "code",
   "execution_count": 20,
   "id": "07b4f6e1-fce2-48a3-8671-43e7cf96df2c",
   "metadata": {},
   "outputs": [],
   "source": [
    "df = pd.DataFrame({'src': src_qus, 'tgt': tgt_qus})"
   ]
  },
  {
   "cell_type": "code",
   "execution_count": 21,
   "id": "97320549-bc69-478f-bec1-86bf2ee7db68",
   "metadata": {},
   "outputs": [
    {
     "data": {
      "text/html": [
       "<div>\n",
       "<style scoped>\n",
       "    .dataframe tbody tr th:only-of-type {\n",
       "        vertical-align: middle;\n",
       "    }\n",
       "\n",
       "    .dataframe tbody tr th {\n",
       "        vertical-align: top;\n",
       "    }\n",
       "\n",
       "    .dataframe thead th {\n",
       "        text-align: right;\n",
       "    }\n",
       "</style>\n",
       "<table border=\"1\" class=\"dataframe\">\n",
       "  <thead>\n",
       "    <tr style=\"text-align: right;\">\n",
       "      <th></th>\n",
       "      <th>src</th>\n",
       "      <th>tgt</th>\n",
       "    </tr>\n",
       "  </thead>\n",
       "  <tbody>\n",
       "    <tr>\n",
       "      <th>0</th>\n",
       "      <td>1</td>\n",
       "      <td>0</td>\n",
       "    </tr>\n",
       "    <tr>\n",
       "      <th>1</th>\n",
       "      <td>0</td>\n",
       "      <td>1</td>\n",
       "    </tr>\n",
       "    <tr>\n",
       "      <th>2</th>\n",
       "      <td>1</td>\n",
       "      <td>0</td>\n",
       "    </tr>\n",
       "    <tr>\n",
       "      <th>3</th>\n",
       "      <td>1</td>\n",
       "      <td>1</td>\n",
       "    </tr>\n",
       "    <tr>\n",
       "      <th>4</th>\n",
       "      <td>2</td>\n",
       "      <td>0</td>\n",
       "    </tr>\n",
       "    <tr>\n",
       "      <th>...</th>\n",
       "      <td>...</td>\n",
       "      <td>...</td>\n",
       "    </tr>\n",
       "    <tr>\n",
       "      <th>145233</th>\n",
       "      <td>1</td>\n",
       "      <td>0</td>\n",
       "    </tr>\n",
       "    <tr>\n",
       "      <th>145234</th>\n",
       "      <td>1</td>\n",
       "      <td>0</td>\n",
       "    </tr>\n",
       "    <tr>\n",
       "      <th>145235</th>\n",
       "      <td>1</td>\n",
       "      <td>1</td>\n",
       "    </tr>\n",
       "    <tr>\n",
       "      <th>145236</th>\n",
       "      <td>2</td>\n",
       "      <td>0</td>\n",
       "    </tr>\n",
       "    <tr>\n",
       "      <th>145237</th>\n",
       "      <td>1</td>\n",
       "      <td>0</td>\n",
       "    </tr>\n",
       "  </tbody>\n",
       "</table>\n",
       "<p>145238 rows × 2 columns</p>\n",
       "</div>"
      ],
      "text/plain": [
       "        src  tgt\n",
       "0         1    0\n",
       "1         0    1\n",
       "2         1    0\n",
       "3         1    1\n",
       "4         2    0\n",
       "...     ...  ...\n",
       "145233    1    0\n",
       "145234    1    0\n",
       "145235    1    1\n",
       "145236    2    0\n",
       "145237    1    0\n",
       "\n",
       "[145238 rows x 2 columns]"
      ]
     },
     "execution_count": 21,
     "metadata": {},
     "output_type": "execute_result"
    }
   ],
   "source": [
    "df"
   ]
  },
  {
   "cell_type": "code",
   "execution_count": 118,
   "id": "5f091cd0-8918-45aa-aa7b-c854c9b79c88",
   "metadata": {},
   "outputs": [
    {
     "data": {
      "text/plain": [
       "0.09580578162897338"
      ]
     },
     "execution_count": 118,
     "metadata": {},
     "output_type": "execute_result"
    }
   ],
   "source": [
    "printdf['src'].corr(df['tgt'], method='spearman'))"
   ]
  },
  {
   "cell_type": "code",
   "execution_count": 111,
   "id": "b2a820a9-4da0-45e9-8908-fc1fe3157d2f",
   "metadata": {},
   "outputs": [
    {
     "name": "stdout",
     "output_type": "stream",
     "text": [
      "count    145238.000000\n",
      "mean          1.506155\n",
      "std           1.111722\n",
      "min           0.000000\n",
      "25%           1.000000\n",
      "50%           1.000000\n",
      "75%           2.000000\n",
      "max           5.000000\n",
      "Name: src, dtype: float64\n",
      "count    145238.000000\n",
      "mean          0.264876\n",
      "std           0.441268\n",
      "min           0.000000\n",
      "25%           0.000000\n",
      "50%           0.000000\n",
      "75%           1.000000\n",
      "max           1.000000\n",
      "Name: tgt, dtype: float64\n"
     ]
    }
   ],
   "source": [
    "print(df['src'].describe())\n",
    "print(df['tgt'].describe())"
   ]
  },
  {
   "cell_type": "code",
   "execution_count": 112,
   "id": "fefca689-6ad2-444c-a65a-8ee9f52c40c6",
   "metadata": {},
   "outputs": [
    {
     "data": {
      "text/plain": [
       "38470"
      ]
     },
     "execution_count": 112,
     "metadata": {},
     "output_type": "execute_result"
    }
   ],
   "source": [
    "df['tgt'].sum()"
   ]
  },
  {
   "cell_type": "code",
   "execution_count": 105,
   "id": "b5561e4e-3286-4795-979c-a560fb86ebfa",
   "metadata": {},
   "outputs": [
    {
     "name": "stdout",
     "output_type": "stream",
     "text": [
      "Regression line: y=0.21+0.04x, r=0.10\n"
     ]
    },
    {
     "data": {
      "image/png": "[encoded data removed]",
      "text/plain": [
       "<Figure size 640x480 with 1 Axes>"
      ]
     },
     "metadata": {},
     "output_type": "display_data"
    }
   ],
   "source": [
    "def plot(x, y):\n",
    "    slope, intercept, r, p, stderr = linregress(x, y)\n",
    "    line = f'Regression line: y={intercept:.2f}+{slope:.2f}x, r={r:.2f}'\n",
    "    print(line)\n",
    "    fig, ax = plt.subplots()\n",
    "    ax.plot(x, y, linewidth=0, marker='o', label='Data points')\n",
    "    ax.plot(x, intercept + slope * x, label=line)\n",
    "    ax.set_xlabel('x')\n",
    "    \n",
    "    ax.set_ylabel('y')\n",
    "    ax.legend(facecolor='white')\n",
    "    \n",
    "    # ax.set_xlim(min(x), max(x))\n",
    "    # ax.set_ylim(min(y), max(y))\n",
    "        \n",
    "    plt.show()\n",
    "\n",
    "plot(src_qus,tgt_qus)\n",
    "\n",
    "# plot(src_qus_ind,tgt_qus)"
   ]
  },
  {
   "cell_type": "code",
   "execution_count": 78,
   "id": "fad60df3-45bf-4ecd-92f3-250897fed47d",
   "metadata": {},
   "outputs": [
    {
     "name": "stdout",
     "output_type": "stream",
     "text": [
      "(145238,)\n",
      "1.5061554138724025\n"
     ]
    },
    {
     "ename": "AttributeError",
     "evalue": "'numpy.ndarray' object has no attribute 'mode'",
     "output_type": "error",
     "traceback": [
      "\u001b[0;31m---------------------------------------------------------------------------\u001b[0m",
      "\u001b[0;31mAttributeError\u001b[0m                            Traceback (most recent call last)",
      "Input \u001b[0;32mIn [78]\u001b[0m, in \u001b[0;36m<cell line: 3>\u001b[0;34m()\u001b[0m\n\u001b[1;32m      1\u001b[0m \u001b[38;5;28mprint\u001b[39m(src_qus\u001b[38;5;241m.\u001b[39mshape)\n\u001b[1;32m      2\u001b[0m \u001b[38;5;28mprint\u001b[39m(src_qus\u001b[38;5;241m.\u001b[39mmean())\n\u001b[0;32m----> 3\u001b[0m \u001b[38;5;28mprint\u001b[39m(\u001b[43msrc_qus\u001b[49m\u001b[38;5;241;43m.\u001b[39;49m\u001b[43mmode\u001b[49m())\n\u001b[1;32m      4\u001b[0m \u001b[38;5;28mprint\u001b[39m(src_qus)\n",
      "\u001b[0;31mAttributeError\u001b[0m: 'numpy.ndarray' object has no attribute 'mode'"
     ]
    }
   ],
   "source": [
    "print(src_qus.shape)\n",
    "print(src_qus.mean())\n",
    "print(src_qus)"
   ]
  },
  {
   "cell_type": "code",
   "execution_count": 75,
   "id": "336d195f-add6-492c-ba58-08a68c71ac82",
   "metadata": {},
   "outputs": [
    {
     "name": "stdout",
     "output_type": "stream",
     "text": [
      "[0 1 0 ... 1 0 0]\n"
     ]
    }
   ],
   "source": [
    "print(tgt_qus)"
   ]
  },
  {
   "cell_type": "code",
   "execution_count": null,
   "id": "670b3b8b-b4b8-4bb4-b97c-84a6ed037561",
   "metadata": {},
   "outputs": [],
   "source": []
  }
 ],
 "metadata": {
  "kernelspec": {
   "display_name": "ctx_aug_24",
   "language": "python",
   "name": "python3"
  },
  "language_info": {
   "codemirror_mode": {
    "name": "ipython",
    "version": 3
   },
   "file_extension": ".py",
   "mimetype": "text/x-python",
   "name": "python",
   "nbconvert_exporter": "python",
   "pygments_lexer": "ipython3",
   "version": "3.8.19"
  }
 },
 "nbformat": 4,
 "nbformat_minor": 5
}
