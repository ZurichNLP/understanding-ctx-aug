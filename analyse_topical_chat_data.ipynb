{
 "cells": [
  {
   "cell_type": "code",
   "execution_count": 14,
   "id": "2ed81055-8ec5-4aee-b925-8acfcccddc7c",
   "metadata": {},
   "outputs": [],
   "source": [
    "from pathlib import Path\n",
    "from datasets import load_dataset, concatenate_datasets\n",
    "from transformers import AutoTokenizer\n",
    "from collections import Counter\n",
    "from typing import List\n",
    "import numpy as np\n",
    "from tqdm import tqdm\n",
    "import pandas as pd\n",
    "from scipy.stats import pearsonr, linregress\n",
    "from scipy.spatial.distance import pdist, cdist, dice, hamming, jaccard\n",
    "import matplotlib.pyplot as plt\n",
    "from data import preprocess_topical_chat_dataset, preprocess_function, load_data, prepare_data_for_model"
   ]
  },
  {
   "cell_type": "code",
   "execution_count": 2,
   "id": "bad777d5-8193-4458-92a2-df5fdcb11fa3",
   "metadata": {},
   "outputs": [],
   "source": [
    "tokenizer = AutoTokenizer.from_pretrained('resources/models/seed_23/pt/hf_conv/bart_small-SI_t5/')"
   ]
  },
  {
   "cell_type": "code",
   "execution_count": 3,
   "id": "4d9b726f-a493-4f4c-bcc0-6bd0b4a3e88b",
   "metadata": {},
   "outputs": [],
   "source": [
    "def load_json_dataset(dataset: Path):   \n",
    "    split = dataset.stem\n",
    "    extension = dataset.suffix.strip('.')\n",
    "    print(split, extension, str(dataset))\n",
    "    dataset_dict = load_dataset(extension, data_files={'test': str(dataset)})\n",
    "    return dataset_dict # concatenate_datasets(loaded_datasets)\n",
    "\n",
    "def tokenize_dataset(dataset):\n",
    "    dataset = dataset.map(\n",
    "    preprocess_topical_chat_dataset,\n",
    "    batched=True,\n",
    "    num_proc=4,\n",
    "    desc=\"Running tokenizer on dataset\",\n",
    "    fn_kwargs={\n",
    "        'tokenizer': tokenizer,\n",
    "        'speaker_id_tag': '<speaker_1>',\n",
    "        'text_column': 'turns',\n",
    "        'summary_column': 'target',\n",
    "        'knowledge_column': 'knowledge',\n",
    "        'knowledge_bucket_size': 32,\n",
    "        'history_bucket_size': 25,\n",
    "        'max_target_length': 128,\n",
    "        'source_prefix': None,\n",
    "        'pad_to_max_length': False,\n",
    "        'ignore_pad_token_for_loss': False,\n",
    "        },\n",
    "    )\n",
    "    \n",
    "    return dataset\n",
    "\n",
    "def flatten(l: List[List]) -> List:\n",
    "    \"\"\"flattens a list of lists\"\"\"\n",
    "    return [item for sublist in l for item in sublist]\n",
    "\n",
    "def get_vocab_stats(dataset, tokenizer=tokenizer):\n",
    "    inputs_tokenized = list(map(tokenizer.convert_ids_to_tokens, dataset['test']['input_ids']))\n",
    "    targets_tokenized = list(map(tokenizer.convert_ids_to_tokens, dataset['test']['labels']))\n",
    "\n",
    "    print('inputs:')\n",
    "    print(inputs_tokenized[:2], '...')\n",
    "    print('targets:')\n",
    "    print(targets_tokenized[:2], '...')\n",
    "\n",
    "    input_vocab = Counter(flatten(inputs_tokenized))\n",
    "    target_vocab = Counter(flatten(targets_tokenized))\n",
    "    total_vocab = input_vocab + target_vocab\n",
    "\n",
    "    print(f'Input vocab items: {len(input_vocab)}')\n",
    "    print(f'Target vocab items: {len(target_vocab)}')\n",
    "    print(f'Combined vocab items: {len(total_vocab)}')\n",
    "    print(f'Most common tokens: {total_vocab.most_common(20)}')\n",
    "\n",
    "    df = pd.DataFrame.from_dict(total_vocab, orient='index').reset_index()\n",
    "    df = df.rename(columns={'index':'token', 0:'freq_count'})\n",
    "    \n",
    "    return df\n"
   ]
  },
  {
   "cell_type": "code",
   "execution_count": 6,
   "id": "2a48fa7a-f7f7-4c46-9e37-7eb1487eb142",
   "metadata": {},
   "outputs": [],
   "source": [
    "# dataset = load_json_dataset(Path('resources/data/Topical-Chat/KGD/test_rare.json'))\n",
    "# print(dataset)\n",
    "# dataset = tokenize_dataset(dataset)\n",
    "# df_rare = get_vocab_stats(dataset)\n",
    "# df_rare.plot(logy=True)"
   ]
  },
  {
   "cell_type": "code",
   "execution_count": 7,
   "id": "8b42bfdb-2ccb-49c7-ad50-24350b3f6bac",
   "metadata": {},
   "outputs": [],
   "source": [
    "# dataset = load_json_dataset(Path('resources/data/Topical-Chat/KGD/test_freq.json'))\n",
    "# dataset = tokenize_dataset(dataset)\n",
    "# df_freq = get_vocab_stats(dataset)\n",
    "# df_freq.plot(logy=True)"
   ]
  },
  {
   "cell_type": "code",
   "execution_count": null,
   "id": "acf887ac-07c4-4f89-824c-86c2a1a79c5b",
   "metadata": {},
   "outputs": [],
   "source": []
  },
  {
   "cell_type": "code",
   "execution_count": null,
   "id": "3cd9736f-5119-46d5-a01f-bd4536fc3238",
   "metadata": {},
   "outputs": [],
   "source": []
  },
  {
   "cell_type": "code",
   "execution_count": 8,
   "id": "cca9ca74-7c49-442d-84aa-43f5d385955d",
   "metadata": {},
   "outputs": [
    {
     "name": "stdout",
     "output_type": "stream",
     "text": [
      "train json resources/data/Topical-Chat/KGD/train.json\n"
     ]
    },
    {
     "name": "stderr",
     "output_type": "stream",
     "text": [
      "Using custom data configuration default-9eea7701c7958c3c\n",
      "Reusing dataset json (/home/cluster/tkew/.cache/huggingface/datasets/json/default-9eea7701c7958c3c/0.0.0/a3e658c4731e59120d44081ac10bf85dc7e1388126b92338344ce9661907f253)\n"
     ]
    },
    {
     "data": {
      "application/json": {
       "ascii": false,
       "bar_format": null,
       "colour": null,
       "elapsed": 0.019852399826049805,
       "initial": 0,
       "n": 0,
       "ncols": null,
       "nrows": null,
       "postfix": null,
       "prefix": "",
       "rate": null,
       "total": 1,
       "unit": "it",
       "unit_divisor": 1000,
       "unit_scale": false
      },
      "application/vnd.jupyter.widget-view+json": {
       "model_id": "c074bc8e79e147b492079cc4194067da",
       "version_major": 2,
       "version_minor": 0
      },
      "text/plain": [
       "  0%|          | 0/1 [00:00<?, ?it/s]"
      ]
     },
     "metadata": {},
     "output_type": "display_data"
    },
    {
     "name": "stdout",
     "output_type": "stream",
     "text": [
      "DatasetDict({\n",
      "    test: Dataset({\n",
      "        features: ['turns', 'knowledge', 'target'],\n",
      "        num_rows: 145238\n",
      "    })\n",
      "})\n"
     ]
    }
   ],
   "source": [
    "dataset = load_json_dataset(Path('resources/data/Topical-Chat/KGD/train.json'))\n",
    "print(dataset)"
   ]
  },
  {
   "cell_type": "code",
   "execution_count": 9,
   "id": "8866fc21-290e-46d8-84a5-03ed1760a857",
   "metadata": {},
   "outputs": [
    {
     "name": "stdout",
     "output_type": "stream",
     "text": [
      "145238\n",
      "<class 'datasets.arrow_dataset.Dataset'>\n",
      "['_TF_DATASET_REFS', '__class__', '__del__', '__delattr__', '__dict__', '__dir__', '__doc__', '__enter__', '__eq__', '__exit__', '__format__', '__ge__', '__getattribute__', '__getitem__', '__gt__', '__hash__', '__init__', '__init_subclass__', '__iter__', '__le__', '__len__', '__lt__', '__module__', '__ne__', '__new__', '__reduce__', '__reduce_ex__', '__repr__', '__setattr__', '__sizeof__', '__str__', '__subclasshook__', '__weakref__', '_build_local_temp_path', '_check_index_is_initialized', '_data', '_fingerprint', '_format_columns', '_format_kwargs', '_format_type', '_get_cache_file_path', '_get_output_signature', '_getitem', '_indexes', '_indices', '_info', '_iter', '_map_single', '_new_dataset_with_indices', '_output_all_columns', '_push_parquet_shards_to_hub', '_select_contiguous', '_select_with_indices_mapping', '_split', 'add_column', 'add_elasticsearch_index', 'add_faiss_index', 'add_faiss_index_from_external_arrays', 'add_item', 'align_labels_with_mapping', 'builder_name', 'cache_files', 'cast', 'cast_column', 'citation', 'class_encode_column', 'cleanup_cache_files', 'column_names', 'config_name', 'data', 'dataset_size', 'description', 'download_checksums', 'download_size', 'drop_index', 'export', 'features', 'filter', 'flatten', 'flatten_indices', 'format', 'formatted_as', 'from_buffer', 'from_csv', 'from_dict', 'from_file', 'from_json', 'from_pandas', 'from_parquet', 'from_text', 'get_index', 'get_nearest_examples', 'get_nearest_examples_batch', 'homepage', 'info', 'is_index_initialized', 'license', 'list_indexes', 'load_elasticsearch_index', 'load_faiss_index', 'load_from_disk', 'map', 'num_columns', 'num_rows', 'prepare_for_task', 'push_to_hub', 'remove_columns', 'rename_column', 'rename_columns', 'reset_format', 'save_faiss_index', 'save_to_disk', 'search', 'search_batch', 'select', 'set_format', 'set_transform', 'shape', 'shard', 'shuffle', 'size_in_bytes', 'sort', 'split', 'supervised_keys', 'task_templates', 'to_csv', 'to_dict', 'to_json', 'to_pandas', 'to_parquet', 'to_tf_dataset', 'train_test_split', 'unique', 'version', 'with_format', 'with_transform']\n"
     ]
    }
   ],
   "source": [
    "print(len(dataset['test']))\n",
    "print(type(dataset['test']))\n",
    "print(dir(dataset['test']))"
   ]
  },
  {
   "cell_type": "code",
   "execution_count": 11,
   "id": "eea17359-ad1d-443d-8d17-85f427934698",
   "metadata": {},
   "outputs": [],
   "source": [
    "def is_question(text):\n",
    "    if isinstance(text, list):\n",
    "        return sum(list(map(is_question, text)))\n",
    "    if '?' in text:\n",
    "        return 1\n",
    "    else:\n",
    "        return 0\n",
    "\n",
    "src_qus = np.array(list(map(is_question, dataset['test']['turns'])))\n",
    "src_qus_ind = np.int64(src_qus > 0)\n",
    "tgt_qus = np.array(list(map(is_question, dataset['test']['target'])))"
   ]
  },
  {
   "cell_type": "code",
   "execution_count": 94,
   "id": "cc4beb9e-adcf-4984-b1d9-542d639d5804",
   "metadata": {},
   "outputs": [
    {
     "name": "stdout",
     "output_type": "stream",
     "text": [
      "PearsonRResult(statistic=0.09551351159407137, pvalue=2.032077577753429e-291)\n",
      "PearsonRResult(statistic=0.07832829958475114, pvalue=2.1735134661694424e-196)\n"
     ]
    }
   ],
   "source": [
    "print(pearsonr(src_qus,tgt_qus))\n",
    "print(pearsonr(src_qus_ind,tgt_qus))"
   ]
  },
  {
   "cell_type": "code",
   "execution_count": 22,
   "id": "761e36e5-2da5-45f8-a0e4-64ad1aaa05dc",
   "metadata": {},
   "outputs": [
    {
     "name": "stdout",
     "output_type": "stream",
     "text": [
      "0.5762186421770825\n",
      "0.611726958509481\n",
      "0.7311404988602418\n",
      "0.9020383979196327\n"
     ]
    }
   ],
   "source": [
    "print(dice(src_qus_ind,tgt_qus))\n",
    "print(hamming(src_qus_ind,tgt_qus))\n",
    "print(jaccard(src_qus_ind,tgt_qus))\n",
    "print(jaccard(src_qus,tgt_qus))"
   ]
  },
  {
   "cell_type": "code",
   "execution_count": 116,
   "id": "e8d80060-04e0-4ca5-bf3e-225f747da48b",
   "metadata": {},
   "outputs": [
    {
     "data": {
      "text/plain": [
       "<matplotlib.image.AxesImage at 0x7fc04fee4d90>"
      ]
     },
     "execution_count": 116,
     "metadata": {},
     "output_type": "execute_result"
    },
    {
     "data": {
      "image/png": "[encoded data removed]",
      "text/plain": [
       "<Figure size 640x480 with 1 Axes>"
      ]
     },
     "metadata": {},
     "output_type": "display_data"
    }
   ],
   "source": [
    "plt.imshow(np.corrcoef(src_qus,tgt_qus), cmap='hot', interpolation='nearest')"
   ]
  },
  {
   "cell_type": "code",
   "execution_count": 20,
   "id": "07b4f6e1-fce2-48a3-8671-43e7cf96df2c",
   "metadata": {},
   "outputs": [],
   "source": [
    "df = pd.DataFrame({'src': src_qus, 'tgt': tgt_qus})"
   ]
  },
  {
   "cell_type": "code",
   "execution_count": 21,
   "id": "97320549-bc69-478f-bec1-86bf2ee7db68",
   "metadata": {},
   "outputs": [
    {
     "data": {
      "text/html": [
       "<div>\n",
       "<style scoped>\n",
       "    .dataframe tbody tr th:only-of-type {\n",
       "        vertical-align: middle;\n",
       "    }\n",
       "\n",
       "    .dataframe tbody tr th {\n",
       "        vertical-align: top;\n",
       "    }\n",
       "\n",
       "    .dataframe thead th {\n",
       "        text-align: right;\n",
       "    }\n",
       "</style>\n",
       "<table border=\"1\" class=\"dataframe\">\n",
       "  <thead>\n",
       "    <tr style=\"text-align: right;\">\n",
       "      <th></th>\n",
       "      <th>src</th>\n",
       "      <th>tgt</th>\n",
       "    </tr>\n",
       "  </thead>\n",
       "  <tbody>\n",
       "    <tr>\n",
       "      <th>0</th>\n",
       "      <td>1</td>\n",
       "      <td>0</td>\n",
       "    </tr>\n",
       "    <tr>\n",
       "      <th>1</th>\n",
       "      <td>0</td>\n",
       "      <td>1</td>\n",
       "    </tr>\n",
       "    <tr>\n",
       "      <th>2</th>\n",
       "      <td>1</td>\n",
       "      <td>0</td>\n",
       "    </tr>\n",
       "    <tr>\n",
       "      <th>3</th>\n",
       "      <td>1</td>\n",
       "      <td>1</td>\n",
       "    </tr>\n",
       "    <tr>\n",
       "      <th>4</th>\n",
       "      <td>2</td>\n",
       "      <td>0</td>\n",
       "    </tr>\n",
       "    <tr>\n",
       "      <th>...</th>\n",
       "      <td>...</td>\n",
       "      <td>...</td>\n",
       "    </tr>\n",
       "    <tr>\n",
       "      <th>145233</th>\n",
       "      <td>1</td>\n",
       "      <td>0</td>\n",
       "    </tr>\n",
       "    <tr>\n",
       "      <th>145234</th>\n",
       "      <td>1</td>\n",
       "      <td>0</td>\n",
       "    </tr>\n",
       "    <tr>\n",
       "      <th>145235</th>\n",
       "      <td>1</td>\n",
       "      <td>1</td>\n",
       "    </tr>\n",
       "    <tr>\n",
       "      <th>145236</th>\n",
       "      <td>2</td>\n",
       "      <td>0</td>\n",
       "    </tr>\n",
       "    <tr>\n",
       "      <th>145237</th>\n",
       "      <td>1</td>\n",
       "      <td>0</td>\n",
       "    </tr>\n",
       "  </tbody>\n",
       "</table>\n",
       "<p>145238 rows × 2 columns</p>\n",
       "</div>"
      ],
      "text/plain": [
       "        src  tgt\n",
       "0         1    0\n",
       "1         0    1\n",
       "2         1    0\n",
       "3         1    1\n",
       "4         2    0\n",
       "...     ...  ...\n",
       "145233    1    0\n",
       "145234    1    0\n",
       "145235    1    1\n",
       "145236    2    0\n",
       "145237    1    0\n",
       "\n",
       "[145238 rows x 2 columns]"
      ]
     },
     "execution_count": 21,
     "metadata": {},
     "output_type": "execute_result"
    }
   ],
   "source": [
    "df"
   ]
  },
  {
   "cell_type": "code",
   "execution_count": 118,
   "id": "5f091cd0-8918-45aa-aa7b-c854c9b79c88",
   "metadata": {},
   "outputs": [
    {
     "data": {
      "text/plain": [
       "0.09580578162897338"
      ]
     },
     "execution_count": 118,
     "metadata": {},
     "output_type": "execute_result"
    }
   ],
   "source": [
    "printdf['src'].corr(df['tgt'], method='spearman'))"
   ]
  },
  {
   "cell_type": "code",
   "execution_count": 111,
   "id": "b2a820a9-4da0-45e9-8908-fc1fe3157d2f",
   "metadata": {},
   "outputs": [
    {
     "name": "stdout",
     "output_type": "stream",
     "text": [
      "count    145238.000000\n",
      "mean          1.506155\n",
      "std           1.111722\n",
      "min           0.000000\n",
      "25%           1.000000\n",
      "50%           1.000000\n",
      "75%           2.000000\n",
      "max           5.000000\n",
      "Name: src, dtype: float64\n",
      "count    145238.000000\n",
      "mean          0.264876\n",
      "std           0.441268\n",
      "min           0.000000\n",
      "25%           0.000000\n",
      "50%           0.000000\n",
      "75%           1.000000\n",
      "max           1.000000\n",
      "Name: tgt, dtype: float64\n"
     ]
    }
   ],
   "source": [
    "print(df['src'].describe())\n",
    "print(df['tgt'].describe())"
   ]
  },
  {
   "cell_type": "code",
   "execution_count": 112,
   "id": "fefca689-6ad2-444c-a65a-8ee9f52c40c6",
   "metadata": {},
   "outputs": [
    {
     "data": {
      "text/plain": [
       "38470"
      ]
     },
     "execution_count": 112,
     "metadata": {},
     "output_type": "execute_result"
    }
   ],
   "source": [
    "df['tgt'].sum()"
   ]
  },
  {
   "cell_type": "code",
   "execution_count": 105,
   "id": "b5561e4e-3286-4795-979c-a560fb86ebfa",
   "metadata": {},
   "outputs": [
    {
     "name": "stdout",
     "output_type": "stream",
     "text": [
      "Regression line: y=0.21+0.04x, r=0.10\n"
     ]
    },
    {
     "data": {
      "image/png": "[encoded data removed]",
      "text/plain": [
       "<Figure size 640x480 with 1 Axes>"
      ]
     },
     "metadata": {},
     "output_type": "display_data"
    }
   ],
   "source": [
    "def plot(x, y):\n",
    "    slope, intercept, r, p, stderr = linregress(x, y)\n",
    "    line = f'Regression line: y={intercept:.2f}+{slope:.2f}x, r={r:.2f}'\n",
    "    print(line)\n",
    "    fig, ax = plt.subplots()\n",
    "    ax.plot(x, y, linewidth=0, marker='o', label='Data points')\n",
    "    ax.plot(x, intercept + slope * x, label=line)\n",
    "    ax.set_xlabel('x')\n",
    "    \n",
    "    ax.set_ylabel('y')\n",
    "    ax.legend(facecolor='white')\n",
    "    \n",
    "    # ax.set_xlim(min(x), max(x))\n",
    "    # ax.set_ylim(min(y), max(y))\n",
    "        \n",
    "    plt.show()\n",
    "\n",
    "plot(src_qus,tgt_qus)\n",
    "\n",
    "# plot(src_qus_ind,tgt_qus)"
   ]
  },
  {
   "cell_type": "code",
   "execution_count": 78,
   "id": "fad60df3-45bf-4ecd-92f3-250897fed47d",
   "metadata": {},
   "outputs": [
    {
     "name": "stdout",
     "output_type": "stream",
     "text": [
      "(145238,)\n",
      "1.5061554138724025\n"
     ]
    },
    {
     "ename": "AttributeError",
     "evalue": "'numpy.ndarray' object has no attribute 'mode'",
     "output_type": "error",
     "traceback": [
      "\u001b[0;31m---------------------------------------------------------------------------\u001b[0m",
      "\u001b[0;31mAttributeError\u001b[0m                            Traceback (most recent call last)",
      "Input \u001b[0;32mIn [78]\u001b[0m, in \u001b[0;36m<cell line: 3>\u001b[0;34m()\u001b[0m\n\u001b[1;32m      1\u001b[0m \u001b[38;5;28mprint\u001b[39m(src_qus\u001b[38;5;241m.\u001b[39mshape)\n\u001b[1;32m      2\u001b[0m \u001b[38;5;28mprint\u001b[39m(src_qus\u001b[38;5;241m.\u001b[39mmean())\n\u001b[0;32m----> 3\u001b[0m \u001b[38;5;28mprint\u001b[39m(\u001b[43msrc_qus\u001b[49m\u001b[38;5;241;43m.\u001b[39;49m\u001b[43mmode\u001b[49m())\n\u001b[1;32m      4\u001b[0m \u001b[38;5;28mprint\u001b[39m(src_qus)\n",
      "\u001b[0;31mAttributeError\u001b[0m: 'numpy.ndarray' object has no attribute 'mode'"
     ]
    }
   ],
   "source": [
    "print(src_qus.shape)\n",
    "print(src_qus.mean())\n",
    "print(src_qus)"
   ]
  },
  {
   "cell_type": "code",
   "execution_count": 75,
   "id": "336d195f-add6-492c-ba58-08a68c71ac82",
   "metadata": {},
   "outputs": [
    {
     "name": "stdout",
     "output_type": "stream",
     "text": [
      "[0 1 0 ... 1 0 0]\n"
     ]
    }
   ],
   "source": [
    "print(tgt_qus)"
   ]
  },
  {
   "cell_type": "code",
   "execution_count": null,
   "id": "670b3b8b-b4b8-4bb4-b97c-84a6ed037561",
   "metadata": {},
   "outputs": [],
   "source": []
  }
 ],
 "metadata": {
  "kernelspec": {
   "display_name": "unsup_cntrl_3",
   "language": "python",
   "name": "unsup_cntrl_3"
  },
  "language_info": {
   "codemirror_mode": {
    "name": "ipython",
    "version": 3
   },
   "file_extension": ".py",
   "mimetype": "text/x-python",
   "name": "python",
   "nbconvert_exporter": "python",
   "pygments_lexer": "ipython3",
   "version": "3.8.13"
  }
 },
 "nbformat": 4,
 "nbformat_minor": 5
}
