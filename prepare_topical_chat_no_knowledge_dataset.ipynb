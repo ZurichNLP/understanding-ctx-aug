{
 "cells": [
  {
   "cell_type": "code",
   "execution_count": 5,
   "metadata": {},
   "outputs": [],
   "source": [
    "import json\n",
    "import shutil\n",
    "from pathlib import Path"
   ]
  },
  {
   "cell_type": "code",
   "execution_count": 9,
   "metadata": {},
   "outputs": [
    {
     "name": "stdout",
     "output_type": "stream",
     "text": [
      "train: 145238 samples\n",
      "valid_freq: 8986 samples\n",
      "valid_rare: 8997 samples\n",
      "test_freq: 9065 samples\n",
      "test_rare: 9075 samples\n",
      "Done!\n"
     ]
    }
   ],
   "source": [
    "input_dir = Path(\"resources/data/Topical-Chat/KGD\")\n",
    "output_dir = Path(\"resources/data/Topical-Chat/TC\")\n",
    "\n",
    "for split in [\"train\", \"valid_freq\", \"valid_rare\", \"test_freq\", \"test_rare\"]:\n",
    "    with open(input_dir / f\"{split}.json\", 'r', encoding='utf8') as inf:\n",
    "        with open(output_dir / f\"{split}.json\", \"w\", encoding='utf8') as outf:\n",
    "            c = 0\n",
    "            for line in inf:\n",
    "                line = json.loads(line)\n",
    "                line[\"knowledge\"] = \"\"\n",
    "                outf.write(json.dumps(line) + \"\\n\")\n",
    "                c += 1\n",
    "            print(f\"{split}: {c} samples\")\n",
    "\n",
    "print(\"Done!\")"
   ]
  },
  {
   "cell_type": "code",
   "execution_count": 7,
   "metadata": {},
   "outputs": [
    {
     "data": {
      "text/plain": [
       "PosixPath('resources/data/Topical-Chat/TC/sentiment')"
      ]
     },
     "execution_count": 7,
     "metadata": {},
     "output_type": "execute_result"
    }
   ],
   "source": [
    "# cp contexts dir to TC\n",
    "shutil.copytree(input_dir / \"contexts\", output_dir / \"contexts\")\n",
    "shutil.copytree(input_dir / \"sentiment\", output_dir / \"sentiment\")"
   ]
  },
  {
   "cell_type": "code",
   "execution_count": null,
   "metadata": {},
   "outputs": [],
   "source": []
  }
 ],
 "metadata": {
  "kernelspec": {
   "display_name": "unsup_ctrl",
   "language": "python",
   "name": "python3"
  },
  "language_info": {
   "codemirror_mode": {
    "name": "ipython",
    "version": 3
   },
   "file_extension": ".py",
   "mimetype": "text/x-python",
   "name": "python",
   "nbconvert_exporter": "python",
   "pygments_lexer": "ipython3",
   "version": "3.8.15"
  }
 },
 "nbformat": 4,
 "nbformat_minor": 2
}
