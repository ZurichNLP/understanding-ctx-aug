{
 "cells": [
  {
   "cell_type": "code",
   "execution_count": 43,
   "metadata": {},
   "outputs": [],
   "source": [
    "# tested with env: unsup_ctrl_2"
   ]
  },
  {
   "cell_type": "code",
   "execution_count": 44,
   "metadata": {},
   "outputs": [],
   "source": [
    "import pandas as pd\n",
    "import matplotlib.pyplot as plt\n",
    "import seaborn as sns\n",
    "from pathlib import Path\n",
    "from collections import Counter\n",
    "import nltk\n",
    "from datasets import load_dataset\n",
    "from transformers import AutoTokenizer\n",
    "import multiprocessing as mp\n",
    "\n",
    "from math import exp, log, floor\n",
    "import random\n",
    "from itertools import islice\n",
    "\n",
    "from tqdm.notebook import tqdm\n",
    "from tqdm.contrib.concurrent import process_map"
   ]
  },
  {
   "cell_type": "code",
   "execution_count": 59,
   "metadata": {},
   "outputs": [
    {
     "name": "stdout",
     "output_type": "stream",
     "text": [
      "16 workers are available\n"
     ]
    },
    {
     "name": "stderr",
     "output_type": "stream",
     "text": [
      "[nltk_data] Downloading package punkt to\n",
      "[nltk_data]     /home/cluster/tkew/nltk_data...\n",
      "[nltk_data]   Package punkt is already up-to-date!\n"
     ]
    }
   ],
   "source": [
    "n_workers = 2 * mp.cpu_count()\n",
    "print(f\"{n_workers} workers are available\")\n",
    "data_dir = Path('scratch/books1/raw')\n",
    "file = 'train.txt'\n",
    "sample_size = 1_000_000\n",
    "\n",
    "# tokenizer = AutoTokenizer.from_pretrained('scratch/bookcorpus/tok/')\n",
    "nltk.download(\"punkt\")\n",
    "sentence_tokenizer = nltk.data.load(\"tokenizers/punkt/english.pickle\")"
   ]
  },
  {
   "cell_type": "code",
   "execution_count": 60,
   "metadata": {},
   "outputs": [],
   "source": [
    "def reservoir_sample(iterable, k=1, seed=42):\n",
    "    \"\"\"Select k items uniformly from iterable.\n",
    "\n",
    "    Returns the whole population if there are k or fewer items\n",
    "\n",
    "    from https://bugs.python.org/issue41311#msg373733\n",
    "    via https://stackoverflow.com/questions/22258491/read-a-small-random-sample-from-a-big-csv-file-into-a-python-data-frame\n",
    "    \"\"\"\n",
    "    iterator = iter(iterable)\n",
    "    values = list(islice(iterator, k))\n",
    "    random.seed(seed)\n",
    "    W = exp(log(random.random())/k)\n",
    "    while True:\n",
    "        # skip is geometrically distributed\n",
    "        skip = floor(log(random.random())/log(1-W))\n",
    "        selection = list(islice(iterator, skip, skip+1))\n",
    "        if selection:\n",
    "            values[random.randrange(k)] = selection[0]\n",
    "            W *= exp(log(random.random())/k)\n",
    "        else:\n",
    "            return values\n",
    "\n",
    "def sample_file(filepath, k, has_header=False):\n",
    "    with open(filepath, 'r', encoding='utf8') as f:\n",
    "        if has_header:\n",
    "            header = next(f)\n",
    "        result = reservoir_sample(f, k)\n",
    "        result = [l.strip() for l in result] # remove newline chars\n",
    "    return result\n",
    "\n",
    "lines = sample_file(data_dir / file, sample_size)"
   ]
  },
  {
   "cell_type": "code",
   "execution_count": 61,
   "metadata": {},
   "outputs": [
    {
     "name": "stdout",
     "output_type": "stream",
     "text": [
      "Tokens in vocab: 472285\n",
      "Total token count: 13510551\n",
      "Most common tokens: [('the', 671701), ('to', 374102), ('and', 361913), ('of', 298101), ('a', 272316), ('I', 188295), ('in', 181953), ('was', 167227), ('that', 128148), ('his', 123951)]\n",
      "Least common tokens: [('split-rail', 1), (\"Kora's\", 1), ('Mould', 1), ('wilt.', 1), ('26-Jul-04', 1), ('Mosul', 1), ('Birds?', 1), (\"Ralegh's\", 1), ('Frenchy', 1), ('terrified-into-silence', 1)]\n"
     ]
    }
   ],
   "source": [
    "# vocab\n",
    "vocab = Counter()\n",
    "for line in lines:\n",
    "    vocab.update(line.split())\n",
    "print(f'Tokens in vocab: {len(vocab)}')\n",
    "print(f'Total token count: {sum(vocab.values())}')\n",
    "mc = vocab.most_common()\n",
    "print(f'Most common tokens: {mc[:10]}')\n",
    "print(f'Least common tokens: {mc[-10:]}')"
   ]
  },
  {
   "cell_type": "code",
   "execution_count": 62,
   "metadata": {},
   "outputs": [
    {
     "data": {
      "text/html": [
       "<div>\n",
       "<style scoped>\n",
       "    .dataframe tbody tr th:only-of-type {\n",
       "        vertical-align: middle;\n",
       "    }\n",
       "\n",
       "    .dataframe tbody tr th {\n",
       "        vertical-align: top;\n",
       "    }\n",
       "\n",
       "    .dataframe thead th {\n",
       "        text-align: right;\n",
       "    }\n",
       "</style>\n",
       "<table border=\"1\" class=\"dataframe\">\n",
       "  <thead>\n",
       "    <tr style=\"text-align: right;\">\n",
       "      <th></th>\n",
       "      <th>text</th>\n",
       "    </tr>\n",
       "  </thead>\n",
       "  <tbody>\n",
       "    <tr>\n",
       "      <th>0</th>\n",
       "      <td>Obriega wasn't so sure about that.</td>\n",
       "    </tr>\n",
       "    <tr>\n",
       "      <th>1</th>\n",
       "      <td>It is a merging of traditions and kin.</td>\n",
       "    </tr>\n",
       "    <tr>\n",
       "      <th>2</th>\n",
       "      <td>Griffin carried Pet in his arms, her body and ...</td>\n",
       "    </tr>\n",
       "    <tr>\n",
       "      <th>3</th>\n",
       "      <td>Nhẹ hơn, có những đứa trách ông ướm hương lên ...</td>\n",
       "    </tr>\n",
       "    <tr>\n",
       "      <th>4</th>\n",
       "      <td>\"Sometimes...I have these; well what would you...</td>\n",
       "    </tr>\n",
       "    <tr>\n",
       "      <th>...</th>\n",
       "      <td>...</td>\n",
       "    </tr>\n",
       "    <tr>\n",
       "      <th>999995</th>\n",
       "      <td>Gilbert was sleeping on the ground, snoring.</td>\n",
       "    </tr>\n",
       "    <tr>\n",
       "      <th>999996</th>\n",
       "      <td>Winking at Trumpet as he slipped past Ralegh's...</td>\n",
       "    </tr>\n",
       "    <tr>\n",
       "      <th>999997</th>\n",
       "      <td>I could only imagine what it would have done t...</td>\n",
       "    </tr>\n",
       "    <tr>\n",
       "      <th>999998</th>\n",
       "      <td>The Frenchy got up after moi and wiped a littl...</td>\n",
       "    </tr>\n",
       "    <tr>\n",
       "      <th>999999</th>\n",
       "      <td>But he could hear the recently terrified-into-...</td>\n",
       "    </tr>\n",
       "  </tbody>\n",
       "</table>\n",
       "<p>1000000 rows × 1 columns</p>\n",
       "</div>"
      ],
      "text/plain": [
       "                                                     text\n",
       "0                      Obriega wasn't so sure about that.\n",
       "1                  It is a merging of traditions and kin.\n",
       "2       Griffin carried Pet in his arms, her body and ...\n",
       "3       Nhẹ hơn, có những đứa trách ông ướm hương lên ...\n",
       "4       \"Sometimes...I have these; well what would you...\n",
       "...                                                   ...\n",
       "999995       Gilbert was sleeping on the ground, snoring.\n",
       "999996  Winking at Trumpet as he slipped past Ralegh's...\n",
       "999997  I could only imagine what it would have done t...\n",
       "999998  The Frenchy got up after moi and wiped a littl...\n",
       "999999  But he could hear the recently terrified-into-...\n",
       "\n",
       "[1000000 rows x 1 columns]"
      ]
     },
     "execution_count": 62,
     "metadata": {},
     "output_type": "execute_result"
    }
   ],
   "source": [
    "df = pd.DataFrame({'text': lines})\n",
    "df"
   ]
  },
  {
   "cell_type": "code",
   "execution_count": 63,
   "metadata": {},
   "outputs": [
    {
     "name": "stderr",
     "output_type": "stream",
     "text": [
      "100%|██████████| 1000000/1000000 [00:00<00:00, 1298454.47it/s]\n"
     ]
    }
   ],
   "source": [
    "batch = round(len(df)/n_workers)\n",
    "def count_tokens(text):\n",
    "    return len(text.split())\n",
    "\n",
    "df['length'] = process_map(count_tokens, df['text'], max_workers=n_workers, chunksize=batch)"
   ]
  },
  {
   "cell_type": "code",
   "execution_count": 64,
   "metadata": {},
   "outputs": [
    {
     "name": "stdout",
     "output_type": "stream",
     "text": [
      "count    1000000.000000\n",
      "mean          13.510551\n",
      "std           10.081512\n",
      "min            1.000000\n",
      "25%            6.000000\n",
      "50%           11.000000\n",
      "75%           18.000000\n",
      "max          760.000000\n",
      "Name: length, dtype: float64\n"
     ]
    }
   ],
   "source": [
    "print(df['length'].describe())"
   ]
  },
  {
   "cell_type": "code",
   "execution_count": 65,
   "metadata": {},
   "outputs": [
    {
     "data": {
      "text/plain": [
       "Text(0.5, 0, '# tokens')"
      ]
     },
     "execution_count": 65,
     "metadata": {},
     "output_type": "execute_result"
    },
    {
     "data": {
      "image/png": "[encoded data removed]",
      "text/plain": [
       "<Figure size 432x288 with 1 Axes>"
      ]
     },
     "metadata": {
      "needs_background": "light"
     },
     "output_type": "display_data"
    }
   ],
   "source": [
    "ax = df['length'].plot(kind='hist', bins=100)\n",
    "ax.set_xlabel('# tokens')"
   ]
  },
  {
   "cell_type": "code",
   "execution_count": 66,
   "metadata": {},
   "outputs": [],
   "source": [
    "# def count_tokens(example):\n",
    "#     return {'#tokens': len(example[\"text\"].split())}\n",
    "\n",
    "# def count_sentences(example):\n",
    "#     return {'#sents': len(sentence_tokenizer.tokenize(example[\"text\"]))}\n",
    "\n",
    "# def collect_vocab(data):\n",
    "#     vocab = Counter()\n",
    "#     for item in data:\n",
    "#         vocab.update(item.split())\n",
    "#     print(f'length of vocab: {len(vocab)}')\n",
    "#     print(f'most common: {vocab.most_common(20)}')\n",
    "#     return vocab\n",
    "\n",
    "\n",
    "# dataset = dataset.map(count_tokens)\n",
    "# dataset = dataset.map(count_sentences)\n",
    "# vocab = collect_vocab(dataset['text'])\n",
    "\n",
    "# df = dataset.to_pandas()\n",
    "# df\n",
    "\n",
    "# df['#tokens'].plot(kind='hist', bins=50)"
   ]
  },
  {
   "cell_type": "code",
   "execution_count": null,
   "metadata": {},
   "outputs": [],
   "source": []
  },
  {
   "cell_type": "code",
   "execution_count": null,
   "metadata": {},
   "outputs": [],
   "source": []
  }
 ],
 "metadata": {
  "kernelspec": {
   "display_name": "unsup_ctrl_2",
   "language": "python",
   "name": "unsup_ctrl_2"
  },
  "language_info": {
   "codemirror_mode": {
    "name": "ipython",
    "version": 3
   },
   "file_extension": ".py",
   "mimetype": "text/x-python",
   "name": "python",
   "nbconvert_exporter": "python",
   "pygments_lexer": "ipython3",
   "version": "3.8.13"
  }
 },
 "nbformat": 4,
 "nbformat_minor": 4
}
